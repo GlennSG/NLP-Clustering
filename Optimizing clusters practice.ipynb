{
 "cells": [
  {
   "cell_type": "code",
   "execution_count": null,
   "metadata": {},
   "outputs": [],
   "source": [
    "from sklearn.cluster import KMeans\n",
    "wcss = []\n",
    "n_clusters = range(1,100)\n",
    "for i in n_clusters:\n",
    "    kmeans = KMeans(n_clusters=i,random_state=42)\n",
    "    kmeans.fit(X_tfidf)\n",
    "    wcss.append(kmeans.inertia_)"
   ]
  },
  {
   "cell_type": "code",
   "execution_count": null,
   "metadata": {},
   "outputs": [],
   "source": [
    "import matplotlib.pyplot as plt\n",
    "%matplotlib inline\n",
    "\n",
    "plt.rcParams['figure.figsize'] = (23,13)\n",
    "plt.plot(n_clusters,wcss)\n",
    "plt.title(\"The Elbow Method\")\n",
    "plt.xlabel(\"Number of clusters\")\n",
    "plt.ylabel(\"WCSS\")\n",
    "plt.xticks(n_clusters)\n",
    "plt.show()"
   ]
  },
  {
   "cell_type": "code",
   "execution_count": null,
   "metadata": {},
   "outputs": [],
   "source": [
    "# average silhouette method\n",
    "#from sklearn.metrics import silhouette_score\n",
    "\n",
    "#for i in range(2,100):\n",
    "    #kmeans = KMeans(n_clusters=i).fit(X_tfidf)\n",
    "    #label = kmeans.labels_\n",
    "    #sil_coeff = silhouette_score(X_tfidf, label, metric='euclidean')\n",
    "    #print(\"For n_clusters={}, The Silhouette Coefficient is {}\".format(i, sil_coeff))"
   ]
  },
  {
   "cell_type": "code",
   "execution_count": null,
   "metadata": {},
   "outputs": [],
   "source": [
    "# gap statistic\n",
    "#def optimalK(data, maxClusters, nrefs=3):\n",
    "    \"\"\"\n",
    "    Calculates KMeans optimal K using Gap Statistic from Tibshirani, Walther, Hastie\n",
    "    Params:\n",
    "        data: ndarry of shape (n_samples, n_features)\n",
    "        nrefs: number of sample reference datasets to create\n",
    "        maxClusters: Maximum number of clusters to test for\n",
    "    Returns: (gaps, optimalK)\n",
    "    \"\"\"\n",
    "    #gaps = np.zeros((len(maxClusters)),)\n",
    "    #resultsdf = pd.DataFrame({'clusterCount':[], 'gap':[]})\n",
    "    #for gap_index, k in enumerate(maxClusters):\n",
    "\n",
    "        # Holder for reference dispersion results\n",
    "        #refDisps = np.zeros(nrefs)\n",
    "\n",
    "        # For n references, generate random sample and perform kmeans getting resulting dispersion of each loop\n",
    "        #for i in range(nrefs):\n",
    "            \n",
    "            # Create new random reference set\n",
    "            #randomReference = np.random.random_sample(size=data.shape)\n",
    "            \n",
    "            # Fit to it\n",
    "            #km = KMeans(k)\n",
    "            #km.fit(randomReference)\n",
    "            \n",
    "            #refDisp = km.inertia_\n",
    "            #refDisps[i] = refDisp\n",
    "\n",
    "        # Fit cluster to original data and create dispersion\n",
    "        #km = KMeans(k)\n",
    "        #km.fit(data)\n",
    "        \n",
    "        #origDisp = km.inertia_\n",
    "\n",
    "        # Calculate gap statistic\n",
    "        #gap = np.log(np.mean(refDisps)) - np.log(origDisp)\n",
    "\n",
    "        # Assign this loop's gap statistic to gaps\n",
    "        #gaps[gap_index] = gap\n",
    "        \n",
    "        #resultsdf = resultsdf.append({'clusterCount':k, 'gap':gap}, ignore_index=True)\n",
    "\n",
    "    #return (gaps.argmax() + 1, resultsdf)  # Plus 1 because index of 0 means 1 cluster is optimal, index 2 = 3 clusters are optimal"
   ]
  },
  {
   "cell_type": "code",
   "execution_count": null,
   "metadata": {},
   "outputs": [],
   "source": [
    "#k,gapdf = optimalK(X_tfidf,n_clusters,nrefs=5)\n",
    "#print(\"Optimal k is: \",k)"
   ]
  },
  {
   "cell_type": "code",
   "execution_count": null,
   "metadata": {},
   "outputs": [],
   "source": [
    "#plt.plot(gapdf.clusterCount, gapdf.gap, linewidth=3)\n",
    "#plt.scatter(gapdf[gapdf.clusterCount == k].clusterCount, gapdf[gapdf.clusterCount == k].gap, s=250, c='r')\n",
    "#plt.grid(True)\n",
    "#plt.xlabel('Cluster Count')\n",
    "#plt.ylabel('Gap Value')\n",
    "#plt.title('Gap Values by Cluster Count')\n",
    "#plt.show()"
   ]
  }
 ],
 "metadata": {
  "kernelspec": {
   "display_name": "Python 3",
   "language": "python",
   "name": "python3"
  },
  "language_info": {
   "codemirror_mode": {
    "name": "ipython",
    "version": 3
   },
   "file_extension": ".py",
   "mimetype": "text/x-python",
   "name": "python",
   "nbconvert_exporter": "python",
   "pygments_lexer": "ipython3",
   "version": "3.6.5"
  }
 },
 "nbformat": 4,
 "nbformat_minor": 2
}
