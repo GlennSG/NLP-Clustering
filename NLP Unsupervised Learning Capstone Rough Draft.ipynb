{
 "cells": [
  {
   "cell_type": "markdown",
   "metadata": {},
   "source": [
    "In this classification model, we are going to pick 10 different books from the science fiction genre, with different authors. \n",
    "\n",
    "1. \"Inside Earth\" by Anderson,Poul William\n",
    "\n",
    "2. \"The Lost Kafoozalum\" by Ashwell,Pauline\n",
    "\n",
    "3. \"Vanishing Point\" by Beck,C.C.\n",
    "\n",
    "4. \"The Day Time Stopped Moving\" by Buckner,Bradner\n",
    "\n",
    "5. \"Hard Guy\" by Carleton,H.B.\n",
    "\n",
    "6. \"The Sound of Silence\" by Constant,Barbara\n",
    "\n",
    "7. \"A Traveler in Time\" by Derleth, August\n",
    "\n",
    "8. \"The Immortals\" by Duncan, David\n",
    "\n",
    "9. \"The Ignoble Savages\" by Smith, Evelyn E.\n",
    "\n",
    "10. \"Gladiator\" by Wylie, Philip\n",
    "\n",
    "Source: https://www.gutenberg.org/wiki/Science_Fiction_(Bookshelf)"
   ]
  },
  {
   "cell_type": "code",
   "execution_count": 129,
   "metadata": {},
   "outputs": [
    {
     "data": {
      "text/html": [
       "<div>\n",
       "<style scoped>\n",
       "    .dataframe tbody tr th:only-of-type {\n",
       "        vertical-align: middle;\n",
       "    }\n",
       "\n",
       "    .dataframe tbody tr th {\n",
       "        vertical-align: top;\n",
       "    }\n",
       "\n",
       "    .dataframe thead th {\n",
       "        text-align: right;\n",
       "    }\n",
       "</style>\n",
       "<table border=\"1\" class=\"dataframe\">\n",
       "  <thead>\n",
       "    <tr style=\"text-align: right;\">\n",
       "      <th></th>\n",
       "      <th>Text</th>\n",
       "      <th>Author</th>\n",
       "    </tr>\n",
       "  </thead>\n",
       "  <tbody>\n",
       "  </tbody>\n",
       "</table>\n",
       "</div>"
      ],
      "text/plain": [
       "Empty DataFrame\n",
       "Columns: [Text, Author]\n",
       "Index: []"
      ]
     },
     "execution_count": 129,
     "metadata": {},
     "output_type": "execute_result"
    }
   ],
   "source": [
    "import nltk\n",
    "import pandas as pd\n",
    "import numpy as np\n",
    "from urllib import request\n",
    "url_list = [\"http://www.gutenberg.org/cache/epub/51184/pg51184.txt\",\n",
    "            \"http://www.gutenberg.org/cache/epub/30427/pg30427.txt\",\n",
    "            \"http://www.gutenberg.org/cache/epub/23868/pg23868.txt\",\n",
    "            \"http://www.gutenberg.org/cache/epub/27053/pg27053.txt\",\n",
    "            \"http://www.gutenberg.org/cache/epub/26855/pg26855.txt\",\n",
    "            \"http://www.gutenberg.org/cache/epub/30283/pg30283.txt\",\n",
    "            \"http://www.gutenberg.org/cache/epub/40953/pg40953.txt\",\n",
    "            \"http://www.gutenberg.org/cache/epub/51801/pg51801.txt\",\n",
    "            \"http://www.gutenberg.org/cache/epub/51413/pg51413.txt\",\n",
    "            \"http://www.gutenberg.org/cache/epub/42914/pg42914.txt\"\n",
    "           ]\n",
    "author_list = [\"Anderson\",\"Ashwell\",\"Beck\",\"Buckner\",\"Carleton\",\"Constant\",\"Derleth\",\"Duncan\",\"Smith\",\"Wylie\"]\n",
    "\n",
    "text_df = pd.DataFrame(columns=[\"Text\",\"Author\"])\n",
    "text_df.head(3)"
   ]
  },
  {
   "cell_type": "code",
   "execution_count": 130,
   "metadata": {},
   "outputs": [],
   "source": [
    "from nltk.corpus import stopwords\n",
    "from nltk.stem import WordNetLemmatizer\n",
    "import re\n",
    "\n",
    "def text_cleaner(text):\n",
    "    text = re.sub(\"[^a-zA-Z]\",' ',text)\n",
    "    text = text.lower()\n",
    "    text = text.split()\n",
    "    lmz = WordNetLemmatizer()\n",
    "    text = [lmz.lemmatize(word) for word in text if not word in set(stopwords.words('english'))]\n",
    "    text = ' '.join(text)\n",
    "    return text"
   ]
  },
  {
   "cell_type": "code",
   "execution_count": 131,
   "metadata": {},
   "outputs": [],
   "source": [
    "sent_list = []\n",
    "auth_list = []\n",
    "for url,author in zip(url_list,author_list):\n",
    "    response = request.urlopen(url)\n",
    "    raw = response.read().decode('utf8')\n",
    "    raw_sent = nltk.sent_tokenize(raw)\n",
    "    for sent in raw_sent:\n",
    "        if \"START OF THIS PROJECT\" in sent:\n",
    "            del raw_sent[:raw_sent.index(sent)+1]\n",
    "        if \"END OF THIS PROJECT\" in sent:\n",
    "            del raw_sent[raw_sent.index(sent):]\n",
    "    for sent in raw_sent:\n",
    "        sent_list.append(sent)\n",
    "        auth_list.append(author)"
   ]
  },
  {
   "cell_type": "code",
   "execution_count": 132,
   "metadata": {},
   "outputs": [
    {
     "data": {
      "text/html": [
       "<div>\n",
       "<style scoped>\n",
       "    .dataframe tbody tr th:only-of-type {\n",
       "        vertical-align: middle;\n",
       "    }\n",
       "\n",
       "    .dataframe tbody tr th {\n",
       "        vertical-align: top;\n",
       "    }\n",
       "\n",
       "    .dataframe thead th {\n",
       "        text-align: right;\n",
       "    }\n",
       "</style>\n",
       "<table border=\"1\" class=\"dataframe\">\n",
       "  <thead>\n",
       "    <tr style=\"text-align: right;\">\n",
       "      <th></th>\n",
       "      <th>Text</th>\n",
       "      <th>Author</th>\n",
       "    </tr>\n",
       "  </thead>\n",
       "  <tbody>\n",
       "    <tr>\n",
       "      <th>0</th>\n",
       "      <td>Extensive research did not uncover any evidenc...</td>\n",
       "      <td>Anderson</td>\n",
       "    </tr>\n",
       "    <tr>\n",
       "      <th>1</th>\n",
       "      <td>Obviously, no conqueror wants his subjects to\\...</td>\n",
       "      <td>Anderson</td>\n",
       "    </tr>\n",
       "    <tr>\n",
       "      <th>2</th>\n",
       "      <td>Obviously?</td>\n",
       "      <td>Anderson</td>\n",
       "    </tr>\n",
       "  </tbody>\n",
       "</table>\n",
       "</div>"
      ],
      "text/plain": [
       "                                                Text    Author\n",
       "0  Extensive research did not uncover any evidenc...  Anderson\n",
       "1  Obviously, no conqueror wants his subjects to\\...  Anderson\n",
       "2                                         Obviously?  Anderson"
      ]
     },
     "execution_count": 132,
     "metadata": {},
     "output_type": "execute_result"
    }
   ],
   "source": [
    "text_df[\"Text\"] = sent_list\n",
    "text_df[\"Author\"] = auth_list\n",
    "text_df.head(3)"
   ]
  },
  {
   "cell_type": "code",
   "execution_count": 133,
   "metadata": {},
   "outputs": [
    {
     "data": {
      "text/plain": [
       "array(['Anderson', 'Ashwell', 'Beck', 'Buckner', 'Carleton', 'Constant',\n",
       "       'Derleth', 'Duncan', 'Smith', 'Wylie'], dtype=object)"
      ]
     },
     "execution_count": 133,
     "metadata": {},
     "output_type": "execute_result"
    }
   ],
   "source": [
    "text_df[\"Author\"].unique()"
   ]
  },
  {
   "cell_type": "code",
   "execution_count": 134,
   "metadata": {},
   "outputs": [
    {
     "data": {
      "text/plain": [
       "(13834, 2)"
      ]
     },
     "execution_count": 134,
     "metadata": {},
     "output_type": "execute_result"
    }
   ],
   "source": [
    "text_df.shape"
   ]
  },
  {
   "cell_type": "code",
   "execution_count": 135,
   "metadata": {},
   "outputs": [],
   "source": [
    "corpus = []\n",
    "for sent in text_df[\"Text\"]:\n",
    "    sent_clean = text_cleaner(sent)\n",
    "    corpus.append(sent_clean)"
   ]
  },
  {
   "cell_type": "code",
   "execution_count": 136,
   "metadata": {},
   "outputs": [
    {
     "data": {
      "text/plain": [
       "13834"
      ]
     },
     "execution_count": 136,
     "metadata": {},
     "output_type": "execute_result"
    }
   ],
   "source": [
    "len(corpus)"
   ]
  },
  {
   "cell_type": "markdown",
   "metadata": {},
   "source": [
    "## K-Means Clustering"
   ]
  },
  {
   "cell_type": "code",
   "execution_count": 137,
   "metadata": {},
   "outputs": [],
   "source": [
    "# max features --> 13000\n",
    "from sklearn.feature_extraction.text import TfidfVectorizer\n",
    "\n",
    "tfidf_v = TfidfVectorizer(max_df=0.5,\n",
    "                          max_features=13000,\n",
    "                          min_df=5,\n",
    "                          stop_words='english',\n",
    "                          use_idf=True,\n",
    "                          norm=u'l2',\n",
    "                          smooth_idf=True\n",
    "                          )"
   ]
  },
  {
   "cell_type": "code",
   "execution_count": 138,
   "metadata": {},
   "outputs": [],
   "source": [
    "X = tfidf_v.fit_transform(corpus).toarray()\n",
    "y = text_df.iloc[:,1].values"
   ]
  },
  {
   "cell_type": "code",
   "execution_count": 139,
   "metadata": {},
   "outputs": [
    {
     "data": {
      "text/plain": [
       "(13834, 2701)"
      ]
     },
     "execution_count": 139,
     "metadata": {},
     "output_type": "execute_result"
    }
   ],
   "source": [
    "X.shape"
   ]
  },
  {
   "cell_type": "code",
   "execution_count": 141,
   "metadata": {},
   "outputs": [],
   "source": [
    "from sklearn.cluster import KMeans\n",
    "\n",
    "wcss = []\n",
    "for i in range(1,11):\n",
    "    kmeans = KMeans(n_clusters=i,init='k-means++',max_iter=300,n_init=10,random_state=42)\n",
    "    kmeans.fit(X)\n",
    "    wcss.append(kmeans.inertia_)"
   ]
  },
  {
   "cell_type": "code",
   "execution_count": 143,
   "metadata": {},
   "outputs": [
    {
     "data": {
      "image/png": "[encoded data removed]",
      "text/plain": [
       "<Figure size 1656x936 with 1 Axes>"
      ]
     },
     "metadata": {},
     "output_type": "display_data"
    }
   ],
   "source": [
    "import matplotlib.pyplot as plt\n",
    "%matplotlib inline\n",
    "\n",
    "plt.rcParams['figure.figsize'] = (23,13)\n",
    "plt.plot(range(1,11),wcss)\n",
    "plt.title(\"The Elbow Method\")\n",
    "plt.xlabel(\"Number of clusters\")\n",
    "plt.ylabel(\"WCSS\")\n",
    "plt.xticks(range(1,11))\n",
    "plt.show()"
   ]
  },
  {
   "cell_type": "code",
   "execution_count": 99,
   "metadata": {},
   "outputs": [],
   "source": [
    "#from sklearn.model_selection import train_test_split\n",
    "\n",
    "#X_train,X_test,y_train,y_test = train_test_split(X,y,test_size=0.25,random_state=42)"
   ]
  },
  {
   "cell_type": "code",
   "execution_count": 146,
   "metadata": {},
   "outputs": [],
   "source": [
    "kmeans = KMeans(n_clusters=7,random_state=42)"
   ]
  },
  {
   "cell_type": "code",
   "execution_count": 147,
   "metadata": {},
   "outputs": [],
   "source": [
    "y_kmeans = kmeans.fit_predict(X)"
   ]
  },
  {
   "cell_type": "code",
   "execution_count": 168,
   "metadata": {},
   "outputs": [
    {
     "data": {
      "text/plain": [
       "{0, 1, 2, 3, 4, 5, 6}"
      ]
     },
     "execution_count": 168,
     "metadata": {},
     "output_type": "execute_result"
    }
   ],
   "source": [
    "set(list(y_kmeans))"
   ]
  },
  {
   "cell_type": "code",
   "execution_count": 157,
   "metadata": {},
   "outputs": [],
   "source": [
    "author_dict = {}\n",
    "for i,author in zip(range(len(author_list)),author_list):\n",
    "    author_dict[i] = author"
   ]
  },
  {
   "cell_type": "code",
   "execution_count": 158,
   "metadata": {},
   "outputs": [
    {
     "data": {
      "text/plain": [
       "{0: 'Anderson',\n",
       " 1: 'Ashwell',\n",
       " 2: 'Beck',\n",
       " 3: 'Buckner',\n",
       " 4: 'Carleton',\n",
       " 5: 'Constant',\n",
       " 6: 'Derleth',\n",
       " 7: 'Duncan',\n",
       " 8: 'Smith',\n",
       " 9: 'Wylie'}"
      ]
     },
     "execution_count": 158,
     "metadata": {},
     "output_type": "execute_result"
    }
   ],
   "source": [
    "author_dict"
   ]
  },
  {
   "cell_type": "code",
   "execution_count": 161,
   "metadata": {},
   "outputs": [],
   "source": [
    "clusters = {}\n",
    "n = 0\n",
    "for item in y_kmeans:\n",
    "    if item in clusters:\n",
    "        clusters[item].append(author_dict[n])\n",
    "    else:\n",
    "        clusters[item] = [author_dict[n]]\n",
    "    n +=1\n",
    "    if n == 10:\n",
    "        break"
   ]
  },
  {
   "cell_type": "code",
   "execution_count": 162,
   "metadata": {},
   "outputs": [
    {
     "name": "stdout",
     "output_type": "stream",
     "text": [
      "Cluster  4\n",
      "Anderson\n",
      "Ashwell\n",
      "Beck\n",
      "Buckner\n",
      "Carleton\n",
      "Constant\n",
      "Derleth\n",
      "Duncan\n",
      "Smith\n",
      "Wylie\n"
     ]
    }
   ],
   "source": [
    "for item in clusters:\n",
    "    print(\"Cluster \", item)\n",
    "    for i in clusters[item]:\n",
    "        print(i)"
   ]
  },
  {
   "cell_type": "code",
   "execution_count": 109,
   "metadata": {},
   "outputs": [],
   "source": [
    "def ClusterIndicesNumpy(clustNum,labels_array):\n",
    "    return np.where(labels_array == clustNum)[0]"
   ]
  },
  {
   "cell_type": "code",
   "execution_count": 194,
   "metadata": {},
   "outputs": [],
   "source": [
    "clusters = {}\n",
    "for cluster in range(7):\n",
    "    if cluster not in clusters:\n",
    "        clusters[cluster] = ClusterIndicesNumpy(cluster,kmeans.labels_)"
   ]
  },
  {
   "cell_type": "code",
   "execution_count": 195,
   "metadata": {},
   "outputs": [
    {
     "data": {
      "text/plain": [
       "{0: array([ 6501,  6509,  6526,  6557,  6620,  6625,  6644,  6649,  6658,\n",
       "         6664,  6665,  6680,  6739,  6744,  6762,  6772,  6775,  6785,\n",
       "         6799,  6814,  6819,  6826,  6832,  6834,  6839,  6841,  6845,\n",
       "         6846,  6850,  6851,  6865,  6870,  6879,  6884,  6888,  6890,\n",
       "         6895,  6898,  6905,  6908,  6910,  6915,  6918,  6919,  6925,\n",
       "         6926,  6928,  6932,  6936,  6948,  6957,  6959,  6962,  6970,\n",
       "         6971,  6976,  6980,  6986,  6994,  7001,  7005,  7026,  7044,\n",
       "         7059,  7068,  7072,  7074,  7082,  7096,  7099,  7111,  7126,\n",
       "         7136,  7166,  7167,  7172,  7181,  7208,  7226,  7232,  7238,\n",
       "         7239,  7258,  7263,  7275,  7288,  7294,  7296,  7299,  7301,\n",
       "         7306,  7311,  7321,  7334,  7338,  7340,  7346,  7351,  7354,\n",
       "         7358,  7364,  7381,  7394,  7406,  7408,  7432,  7436,  7437,\n",
       "         7443,  7446,  7454,  7456,  7461,  7467,  7475,  7489,  7494,\n",
       "         7499,  7509,  7552,  7555,  7566,  7572,  7573,  7579,  7588,\n",
       "         7593,  7595,  7596,  7600,  7612,  7627,  7629,  7637,  7642,\n",
       "         7646,  7694,  7712,  7773,  7778,  7781,  7801,  7805,  7825,\n",
       "         7841,  7855,  7868,  7870,  7875,  7881,  7888,  7902,  7908,\n",
       "         7916,  7939,  7941,  7947,  7949,  7964,  7981,  7985,  7989,\n",
       "         8000,  8009,  8019,  8029,  8032,  8058,  8066,  8076,  8081,\n",
       "         8084,  8085,  8115,  8120,  8152,  8163,  8180,  8182,  8191,\n",
       "         8193,  8196,  8216,  8220,  8229,  8232,  8246,  8255,  8258,\n",
       "         8281,  8282,  8296,  8299,  8304,  8307,  8314,  8324,  8326,\n",
       "         8333,  8341,  8346,  8350,  8361,  8372,  8380,  8392,  8398,\n",
       "         8404,  8418,  8419,  8435,  8446,  8447,  8451,  8466,  8469,\n",
       "         8474,  8479,  8482,  8493,  8498,  8516,  8518,  8536,  8546,\n",
       "         8584,  8593,  8635,  8646,  8659,  8668,  8700,  8706,  8711,\n",
       "         8714,  8732,  8750,  8777,  8789,  8821,  8831,  8837,  8860,\n",
       "         8876,  8881,  8890,  8896,  8897,  8905,  8932,  8958,  8965,\n",
       "         8977,  8980,  8988,  8991,  9002,  9018,  9027,  9033,  9049,\n",
       "         9063,  9074,  9075,  9089,  9098,  9104,  9110,  9112,  9119,\n",
       "         9120,  9127,  9137,  9142,  9150,  9154,  9157,  9168,  9176,\n",
       "         9178,  9180,  9187,  9195,  9196,  9204,  9207,  9210,  9224,\n",
       "         9226,  9227,  9240,  9249,  9255,  9261,  9273,  9277,  9285,\n",
       "         9288,  9309,  9315,  9322,  9328,  9334,  9350,  9353,  9386,\n",
       "         9393,  9404,  9412,  9416,  9419,  9440,  9447,  9451,  9455,\n",
       "         9466,  9467,  9469,  9473,  9474,  9483,  9490,  9492,  9505,\n",
       "         9506,  9510,  9514,  9528,  9531,  9542,  9568,  9574,  9577,\n",
       "         9579,  9583,  9588,  9593,  9598,  9601,  9604,  9609,  9611,\n",
       "         9614,  9631,  9633,  9642,  9646,  9650,  9657,  9660,  9666,\n",
       "         9672,  9675,  9677,  9688,  9695,  9700,  9711,  9717,  9728,\n",
       "         9736,  9742,  9751,  9757,  9760,  9779,  9852,  9855,  9862,\n",
       "         9880,  9898,  9901,  9912,  9921,  9925,  9927,  9934,  9941,\n",
       "         9952,  9954,  9958,  9960,  9984,  9987,  9990, 10001, 10010,\n",
       "        10013, 10023, 10038, 10041, 10052, 10059, 10063, 10090, 10095,\n",
       "        10102, 10106, 10138, 10149, 10157, 10158, 10168, 10182, 10197,\n",
       "        10212, 10242, 10253, 10259, 10274, 10290, 10295, 10306, 10331,\n",
       "        10339, 10347, 10350, 10354, 10365, 10368, 10371, 10376, 10390,\n",
       "        10396, 10407, 10411, 10412, 10421, 10447, 10453, 10456, 10465,\n",
       "        10472, 10477, 10480, 10500, 10503, 10506, 10508, 10517, 10547,\n",
       "        10557, 10560, 10570, 10575, 10604, 10611, 10649, 10651, 10652,\n",
       "        10678, 10690, 10737, 10749, 10755, 10761, 10769, 10770, 10773,\n",
       "        10791, 10796, 10813, 10830, 10839, 10841, 10847, 10878, 10880,\n",
       "        10901, 10919, 10922, 10932, 10939, 10956, 10962, 10984, 10998,\n",
       "        11003, 11005, 11007, 11013, 11019, 11023, 11026, 11052, 11057,\n",
       "        11061, 11070, 11076, 11079, 11086, 11091, 11107, 11118, 11128,\n",
       "        11154, 11160, 11164, 11169, 11183, 11193, 11209, 11216, 11217,\n",
       "        11219, 11220, 11232, 11248, 11259, 11289, 11297, 11342, 11351,\n",
       "        11356, 11373, 11378, 11383, 11386, 11397, 11404, 11423, 11437,\n",
       "        11452, 11459, 11476, 11503, 11506, 11510, 11518, 11570, 11584,\n",
       "        11591, 11597, 11608, 11618, 11640, 11675, 11677, 11681, 11688,\n",
       "        11705, 11711, 11729, 11733, 11745, 11754, 11762, 11766, 11799,\n",
       "        11810, 11828, 11873, 11906, 11915, 11921, 11924, 11929, 11938,\n",
       "        11945, 11954, 11959, 11962, 11969, 11970, 11972, 11977, 11984,\n",
       "        12005, 12028, 12033, 12037, 12039, 12043, 12046, 12047, 12056,\n",
       "        12062, 12065, 12068, 12078, 12083, 12086, 12093, 12095, 12103,\n",
       "        12117, 12118, 12121, 12123, 12128, 12148, 12151, 12154, 12175,\n",
       "        12176, 12195, 12197, 12198, 12200, 12205, 12208, 12232, 12235,\n",
       "        12238, 12242, 12246, 12253, 12265, 12271, 12272, 12274, 12277,\n",
       "        12286, 12288, 12293, 12294, 12302, 12326, 12338, 12349, 12366,\n",
       "        12385, 12397, 12419, 12422, 12445, 12474, 12500, 12530, 12539,\n",
       "        12584, 12590, 12593, 12599, 12601, 12607, 12609, 12614, 12622,\n",
       "        12634, 12639, 12654, 12672, 12677, 12681, 12691, 12701, 12710,\n",
       "        12726, 12735, 12751, 12754, 12764, 12789, 12798, 12839, 12842,\n",
       "        12846, 12857, 12888, 12892, 12899, 12910, 12921, 12929, 12951,\n",
       "        12953, 12959, 13001, 13008, 13016, 13027, 13050, 13067, 13075,\n",
       "        13087, 13092, 13098, 13102, 13104, 13114, 13120, 13121, 13126,\n",
       "        13138, 13159, 13168, 13170, 13171, 13173, 13202, 13218, 13239,\n",
       "        13255, 13279, 13289, 13291, 13295, 13316, 13324, 13362, 13370,\n",
       "        13389, 13411, 13421, 13428, 13435, 13442, 13458, 13463, 13475,\n",
       "        13479, 13482, 13506, 13525, 13529, 13531, 13553, 13565, 13576,\n",
       "        13579, 13583, 13586, 13593, 13599, 13607, 13612, 13615, 13619,\n",
       "        13631, 13662, 13667, 13690, 13693, 13703, 13710, 13712, 13724,\n",
       "        13733, 13739, 13752, 13756, 13812, 13824, 13829]),\n",
       " 1: array([   21,    43,   104,   119,   172,   173,   193,   251,   255,\n",
       "          316,   317,   321,   324,   361,   403,   412,   460,   471,\n",
       "          497,   511,   512,   572,   618,   688,   698,   790,   897,\n",
       "          905,   906,   929,   938,   948,   950,   961,   965,   978,\n",
       "          988,  1000,  1002,  1022,  1031,  1062,  1103,  1110,  1119,\n",
       "         1143,  1148,  1268,  1269,  1271,  1282,  1288,  1304,  1309,\n",
       "         1325,  1327,  1329,  1351,  1355,  1377,  1393,  1396,  1397,\n",
       "         1401,  1406,  1420,  1433,  1450,  1453,  1455,  1456,  1458,\n",
       "         1459,  1461,  1462,  1467,  1468,  1473,  1479,  1481,  1482,\n",
       "         1486,  1494,  1495,  1496,  1497,  1499,  1510,  1513,  1521,\n",
       "         1530,  1560,  1568,  1571,  1572,  1573,  1589,  1593,  1603,\n",
       "         1604,  1609,  1611,  1623,  1626,  1627,  1628,  1634,  1642,\n",
       "         1644,  1658,  1663,  1666,  1668,  1671,  1673,  1674,  1675,\n",
       "         1678,  1679,  1686,  1688,  1696,  1697,  1709,  1714,  1715,\n",
       "         1722,  1723,  1726,  1731,  1732,  1734,  1737,  1739,  1740,\n",
       "         1741,  1743,  1747,  1750,  1753,  1756,  1772,  1777,  1783,\n",
       "         1792,  1797,  1798,  1800,  1808,  1833,  1841,  1844,  1849,\n",
       "         1850,  1852,  1853,  1854,  1859,  1868,  1874,  1877,  1878,\n",
       "         1879,  1891,  1892,  1896,  1897,  1927,  1937,  1944,  1952,\n",
       "         1954,  1963,  1974,  1976,  1980,  1982,  1984,  1993,  2009,\n",
       "         2010,  2013,  2016,  2047,  2050,  2052,  2061,  2063,  2070,\n",
       "         2091,  2099,  2112,  2115,  2225,  2227,  2230,  2231,  2239,\n",
       "         2257,  2260,  2272,  2288,  2289,  2294,  2296,  2320,  2362,\n",
       "         2381,  2384,  2441,  2444,  2446,  2449,  2454,  2465,  2480,\n",
       "         2489,  2498,  2499,  2501,  2504,  2506,  2515,  2520,  2521,\n",
       "         2541,  2544,  2546,  2547,  2548,  2571,  2573,  2574,  2577,\n",
       "         2578,  2579,  2582,  2583,  2659,  2679,  2695,  2696,  2698,\n",
       "         2707,  2714,  2716,  2719,  2732,  2755,  2768,  2812,  2877,\n",
       "         2899,  2922,  2928,  2997,  2998,  2999,  3001,  3003,  3015,\n",
       "         3017,  3025,  3026,  3027,  3033,  3035,  3036,  3077,  3090,\n",
       "         3135,  3269,  3272,  3277,  3279,  3282,  3297,  3322,  3352,\n",
       "         3358,  3397,  3454,  3457,  3473,  3480,  3534,  3535,  3550,\n",
       "         3554,  3588,  3591,  3594,  3617,  3618,  3654,  3671,  3686,\n",
       "         3687,  3724,  3758,  3761,  3773,  3779,  3781,  3783,  3794,\n",
       "         3797,  3803,  3808,  3810,  3814,  3816,  3819,  3831,  3843,\n",
       "         3850,  3851,  3854,  3855,  3861,  3866,  3870,  3871,  3885,\n",
       "         3889,  3893,  3899,  3907,  3925,  3956,  3957,  3963,  3989,\n",
       "         4001,  4007,  4014,  4023,  4031,  4044,  4046,  4064,  4072,\n",
       "         4074,  4080,  4084,  4088,  4097,  4106,  4133,  4214,  4240,\n",
       "         4250,  4264,  4281,  4291,  4294,  4319,  4323,  4352,  4449,\n",
       "         4472,  4476,  4520,  4538,  4558,  4638,  4648,  4685,  4696,\n",
       "         4697,  4698,  4702,  4703,  4729,  4760,  4795,  4796,  4862,\n",
       "         4943,  4945,  4987,  5024,  5041,  5058,  5102,  5137,  5164,\n",
       "         5175,  5243,  5255,  5298,  5328,  5362,  5372,  5406,  5436,\n",
       "         5445,  5503,  5565,  5617,  5666,  5737,  5754,  5813,  5836,\n",
       "         5888,  5918,  5928,  5979,  6051,  6138,  6142,  6289,  6384,\n",
       "         6385,  6448,  6449,  6512,  6582,  6640,  6689,  6794,  6942,\n",
       "         6954,  7053,  7186,  7201,  7202,  7218,  7267,  7388,  7401,\n",
       "         7410,  7565,  7687,  7715,  7780,  7812,  7840,  7854,  7869,\n",
       "         7882,  8043,  8223,  8233,  8250,  8262,  8352,  8561,  8600,\n",
       "         8623,  8650,  8669,  8680,  8704,  8708,  8712,  8785,  8787,\n",
       "         8891,  8903,  8917,  8938,  8950,  8955,  8981,  9013,  9043,\n",
       "         9045,  9047,  9060,  9065,  9103,  9135,  9147,  9153,  9246,\n",
       "         9260,  9303,  9341,  9426,  9441,  9516,  9632,  9638,  9729,\n",
       "         9730,  9739,  9797,  9867,  9891,  9896,  9961,  9970, 10015,\n",
       "        10016, 10082, 10098, 10121, 10129, 10143, 10195, 10216, 10218,\n",
       "        10247, 10250, 10467, 10597, 10635, 10753, 10825, 10832, 10864,\n",
       "        10924, 10965, 10977, 10978, 10979, 10992, 11034, 11039, 11074,\n",
       "        11124, 11134, 11136, 11161, 11249, 11348, 11393, 11402, 11407,\n",
       "        11410, 11528, 11607, 11680, 11687, 11692, 11786, 11801, 11839,\n",
       "        11861, 11862, 11893, 11899, 11926, 11975, 12035, 12116, 12161,\n",
       "        12259, 12312, 12327, 12335, 12354, 12524, 12533, 12546, 12612,\n",
       "        12645, 12851, 12875, 12876, 12900, 13057, 13077, 13158, 13180,\n",
       "        13240, 13323, 13329, 13338, 13397, 13499, 13503, 13518, 13534,\n",
       "        13543, 13547, 13585, 13589, 13602, 13742]),\n",
       " 2: array([   75,    92,   121,   138,   157,   203,   244,   330,   342,\n",
       "          377,   396,   411,   432,   457,   514,   520,   530,   653,\n",
       "          737,   751,   756,   761,   765,   810,   813,   828,   829,\n",
       "          840,   852,   855,   874,   916,   926,   990,   993,  1055,\n",
       "         1069,  1128,  1130,  1166,  1181,  1264,  1502,  2235,  2474,\n",
       "         2478,  2479,  2555,  2556,  2618,  2628,  2629,  2633,  2689,\n",
       "         2705,  2942,  2963,  3021,  3049,  3055,  3112,  3137,  3332,\n",
       "         3384,  3391,  3460,  3465,  3469,  3482,  3485,  3491,  3495,\n",
       "         3504,  3506,  3508,  3521,  3529,  3538,  3556,  3572,  3573,\n",
       "         3600,  3603,  3610,  3645,  3649,  3655,  3658,  3681,  3682,\n",
       "         3691,  3692,  3704,  3717,  3754,  3756,  3760,  3780,  3809,\n",
       "         3821,  3826,  3839,  3847,  3849,  3864,  3874,  3875,  3886,\n",
       "         3919,  3926,  3938,  3941,  3944,  3971,  3976,  3987,  3992,\n",
       "         3995,  4002,  4003,  4042,  4061,  4066,  4067,  4068,  4076,\n",
       "         4090,  4099,  4104,  4125,  4144,  4146,  4156,  4161,  4197,\n",
       "         4209,  4213,  4227,  4241,  4290,  4297,  4363,  4372,  4376,\n",
       "         4379,  4380,  4387,  4402,  4407,  4431,  4435,  4456,  4465,\n",
       "         4468,  4483,  4494,  4496,  4501,  4510,  4524,  4563,  4636,\n",
       "         4645,  4720,  4724,  4731,  4734,  4739,  4740,  4742,  4750,\n",
       "         4753,  4761,  4784,  4878,  4889,  4918,  5033,  5054,  5143,\n",
       "         5184,  5186,  5193,  5203,  5240,  5246,  5253,  5260,  5267,\n",
       "         5292,  5307,  5312,  5369,  5371,  5374,  5419,  5492,  5501,\n",
       "         5528,  5541,  5551,  5601,  5630,  5633,  5735,  5739,  5744,\n",
       "         5759,  5775,  5826,  5852,  5865,  5868,  5891,  5897,  5902,\n",
       "         5927,  5948,  5952,  5981,  5984,  5996,  6049,  6068,  6093,\n",
       "         6094,  6115,  6165,  6177,  6216,  6257,  6264,  6343,  6365,\n",
       "         6399,  6403,  6437,  6461,  6476,  6494,  6525,  6648,  6676,\n",
       "         6686,  6690,  6708,  6771,  6788,  6807,  6808,  6822,  6902,\n",
       "         6989,  6991,  7085,  7090,  7292,  7313,  7330,  7332,  7361,\n",
       "         7367,  7465,  7501,  7507,  7561,  7569,  7570,  7583,  7585,\n",
       "         7597,  7606,  7615,  7651,  7665,  7692,  7757,  7783,  7979,\n",
       "         8015,  8022,  8075,  8153,  8215,  8217,  8219,  8234,  8267,\n",
       "         8401,  8415,  8426,  8504,  8514,  8747,  8778,  8783,  8836,\n",
       "         8883,  8895,  8960,  8979,  9001,  9004,  9034,  9054,  9113,\n",
       "         9122,  9124,  9146,  9174,  9271,  9655,  9656,  9755,  9773,\n",
       "         9789,  9830,  9837,  9931, 10002, 10039, 10093, 10142, 10162,\n",
       "        10187, 10243, 10373, 10422, 10475, 10487, 10514, 10521, 10526,\n",
       "        10553, 10562, 10601, 10619, 10657, 10659, 10787, 10793, 10926,\n",
       "        11031, 11069, 11141, 11184, 11194, 11201, 11213, 11257, 11395,\n",
       "        11480, 11581, 11685, 11694, 11701, 11703, 11818, 11822, 11849,\n",
       "        11866, 11919, 11947, 11951, 11960, 11992, 12031, 12090, 12106,\n",
       "        12113, 12129, 12214, 12227, 12231, 12250, 12275, 12278, 12357,\n",
       "        12362, 12429, 12442, 12466, 12476, 12508, 12569, 12603, 12724,\n",
       "        12755, 12769, 12960, 13033, 13119, 13135, 13198, 13343, 13347,\n",
       "        13376, 13493, 13590, 13617, 13799, 13833]),\n",
       " 3: array([  142,   250,   258,   277,   622,   650,   743,   931,  1043,\n",
       "         1047,  1050,  1051,  1237,  1272,  1275,  1306,  1597,  1599,\n",
       "         1608,  1615,  1725,  1863,  1867,  1885,  2004,  2058,  2171,\n",
       "         2252,  2323,  2334,  2336,  2395,  2406,  2442,  2451,  2494,\n",
       "         2545,  2552,  2559,  2620,  2645,  2730,  2736,  2916,  3165,\n",
       "         3555,  3930,  3939,  3955,  4263,  4515,  4546,  4957,  4962,\n",
       "         5228,  5356,  5470,  5571,  5711,  5886,  5894,  6106,  6258,\n",
       "         6282,  6516,  6623,  6697,  6766,  7168,  7345,  7404,  7538,\n",
       "         7571,  7587,  7641,  7660,  7670,  7717,  7721,  7774,  7788,\n",
       "         7818,  7836,  7852,  7958,  8195,  8204,  8411,  8424,  8470,\n",
       "         8488,  8616,  8644,  8764,  8774,  8810,  8922,  8998,  9095,\n",
       "         9100,  9125,  9143,  9237,  9300,  9310,  9362,  9376,  9395,\n",
       "         9406,  9513,  9806, 10171, 10264, 10374, 10603, 10641, 10872,\n",
       "        10911, 10913, 10918, 11014, 11050, 11098, 11923, 11965, 12032,\n",
       "        12219, 12245, 12346, 12369, 12416, 12440, 12450, 12457, 12462,\n",
       "        12528, 12640, 12682, 12843, 12956, 13017, 13046, 13113, 13162,\n",
       "        13311, 13315, 13536, 13641, 13666, 13669, 13791]),\n",
       " 4: array([    0,     1,     2, ..., 13830, 13831, 13832]),\n",
       " 5: array([   25,    64,    73,    87,   196,   208,   382,   407,   439,\n",
       "          474,   502,   504,   651,   666,   680,   787,   891,   893,\n",
       "         1115,  1194,  1239,  1242,  1905,  2220,  2340,  2363,  2389,\n",
       "         2516,  2526,  2770,  2796,  2858,  2866,  2939,  2951,  2966,\n",
       "         2988,  3016,  3066,  3116,  3368,  3371,  3657,  3791,  3878,\n",
       "         3921,  3942,  4049,  4165,  4369,  4370,  4425,  4427,  4430,\n",
       "         4436,  4438,  4440,  4444,  4447,  4460,  4469,  4597,  4599,\n",
       "         4616,  4631,  4632,  4639,  4651,  4657,  4663,  4713,  4717,\n",
       "         4718,  4719,  4737,  4738,  4748,  4754,  4759,  4765,  4810,\n",
       "         4876,  4877,  4887,  4892,  4897,  4914,  4921,  4923,  4925,\n",
       "         4932,  4934,  4938,  4939,  4969,  4976,  4986,  4998,  5025,\n",
       "         5026,  5030,  5034,  5062,  5071,  5079,  5083,  5096,  5105,\n",
       "         5147,  5182,  5183,  5359,  5425,  5444,  5447,  5449,  5452,\n",
       "         5677,  5720,  5740,  5857,  6006,  6008,  6014,  6021,  6052,\n",
       "         6053,  6062,  6066,  6160,  6222,  6224,  6323,  6370,  6377,\n",
       "         6576,  6868,  6871,  6904,  6938,  6956,  6960,  6961,  6964,\n",
       "         6968,  6973,  6979,  6984,  6988,  7045,  7120,  7179,  7207,\n",
       "         7249,  7320,  7331,  7335,  7355,  7380,  7392,  7459,  7576,\n",
       "         7581,  7599,  7620,  7635,  7669,  7679,  7681,  7796,  7967,\n",
       "         7974,  8011,  8026,  8148,  8151,  8172,  8174,  8179,  8218,\n",
       "         8228,  8240,  8280,  8297,  8305,  8317,  8363,  8395,  8416,\n",
       "         8425,  8454,  8586,  8622,  8648,  8655,  8657,  8734,  8738,\n",
       "         8739,  8844,  8845,  8861,  8867,  8966,  8968,  8972,  9035,\n",
       "         9036,  9040,  9050,  9053,  9055,  9076,  9105,  9107,  9118,\n",
       "         9166,  9198,  9247,  9385,  9391,  9414,  9537,  9546,  9602,\n",
       "         9606,  9636,  9670,  9671,  9674,  9704,  9732,  9785,  9790,\n",
       "         9795,  9808,  9809,  9814,  9817,  9825,  9828,  9863,  9879,\n",
       "         9888,  9957,  9959,  9975,  9989,  9992,  9998,  9999, 10043,\n",
       "        10049, 10065, 10107, 10132, 10211, 10263, 10272, 10288, 10334,\n",
       "        10341, 10343, 10349, 10352, 10392, 10409, 10427, 10433, 10441,\n",
       "        10505, 10507, 10518, 10591, 10679, 10710, 10741, 10756, 10804,\n",
       "        10893, 10908, 10917, 10928, 10938, 10955, 10974, 11008, 11009,\n",
       "        11024, 11122, 11182, 11185, 11197, 11205, 11208, 11224, 11254,\n",
       "        11288, 11323, 11380, 11436, 11444, 11477, 11516, 11537, 11541,\n",
       "        11579, 11587, 11596, 11611, 11691, 11710, 11758, 11779, 11819,\n",
       "        11841, 11879, 11883, 11896, 11912, 11914, 11942, 11998, 12012,\n",
       "        12044, 12061, 12105, 12114, 12130, 12196, 12199, 12210, 12213,\n",
       "        12230, 12316, 12333, 12375, 12405, 12412, 12417, 12437, 12620,\n",
       "        12678, 12693, 12709, 12738, 12739, 12740, 12781, 12820, 12821,\n",
       "        12908, 12915, 12947, 13034, 13043, 13076, 13137, 13161, 13176,\n",
       "        13195, 13237, 13292, 13383, 13391, 13398, 13460, 13477, 13496,\n",
       "        13522, 13540, 13544, 13598, 13626, 13645, 13665]),\n",
       " 6: array([   82,    88,    89,    90,    98,   123,   125,   311,   355,\n",
       "          436,   441,   444,   462,   501,   547,   583,   588,   716,\n",
       "          747,   885,   923,  1044,  1081,  1085,  1106,  1123,  1124,\n",
       "         1193,  1207,  1257,  1361,  1367,  1436,  1441,  1501,  1503,\n",
       "         1577,  1616,  1708,  1757,  1809,  1957,  2014,  2056,  2064,\n",
       "         2125,  2281,  2517,  2593,  2617,  2643,  2672,  2677,  2811,\n",
       "         2937,  2962,  2989,  3050,  3056,  3218,  3264,  3431,  3432,\n",
       "         3488,  3490,  3497,  3605,  3616,  3648,  3650,  3659,  3706,\n",
       "         3710,  3722,  3774,  3776,  3784,  3787,  3811,  3822,  3923,\n",
       "         3927,  3928,  3932,  3968,  4013,  4063,  4200,  4201,  4216,\n",
       "         4455,  4521,  4528,  4893,  4895,  4907,  4937,  4948,  4970,\n",
       "         5027,  5073,  5075,  5076,  5349,  5375,  5561,  5622,  5627,\n",
       "         5668,  5690,  5749,  5769,  5973,  6359,  6529,  6547,  6575,\n",
       "         6593,  6859,  6995,  7065,  7102,  7115,  7170,  7171,  7173,\n",
       "         7231,  7370,  7386,  7417,  7477,  7536,  7744,  7809,  7814,\n",
       "         7817,  7859,  8201,  8266,  8273,  8328,  8795,  8800,  8911,\n",
       "         9066,  9144,  9231,  9276,  9432,  9433,  9443,  9495,  9496,\n",
       "         9500,  9508,  9518,  9741, 10117, 10135, 10530, 10531, 10682,\n",
       "        10777, 10943, 10944, 10970, 10988, 11022, 11066, 11109, 11225,\n",
       "        11226, 11240, 11802, 11895, 11976, 11988, 12202, 12413, 12448,\n",
       "        12496, 12554, 12705, 12736, 12743, 12744, 12786, 12991, 12996,\n",
       "        13196, 13244, 13245, 13256, 13628])}"
      ]
     },
     "execution_count": 195,
     "metadata": {},
     "output_type": "execute_result"
    }
   ],
   "source": [
    "clusters"
   ]
  },
  {
   "cell_type": "code",
   "execution_count": 197,
   "metadata": {},
   "outputs": [],
   "source": [
    "for k,v in clusters.items():\n",
    "    print(\"Cluster {}\".format(k))\n",
    "    for i in v:\n",
    "        if text_df.at[i,\"Author\"] in cluster_auth:\n",
    "            cluster_auth[ktext_df.at[i,\"Author\"]] += 1\n",
    "        else:\n",
    "            cluster_auth[text_df.at[i,\"Author\"]] = 1"
   ]
  },
  {
   "cell_type": "code",
   "execution_count": 198,
   "metadata": {},
   "outputs": [
    {
     "data": {
      "text/plain": [
       "{'Wylie': 7828,\n",
       " 'Anderson': 1266,\n",
       " 'Ashwell': 1324,\n",
       " 'Beck': 153,\n",
       " 'Buckner': 543,\n",
       " 'Carleton': 110,\n",
       " 'Constant': 375,\n",
       " 'Derleth': 391,\n",
       " 'Duncan': 1039,\n",
       " 'Smith': 805}"
      ]
     },
     "execution_count": 198,
     "metadata": {},
     "output_type": "execute_result"
    }
   ],
   "source": [
    "cluster_auth"
   ]
  },
  {
   "cell_type": "code",
   "execution_count": 185,
   "metadata": {},
   "outputs": [
    {
     "data": {
      "text/plain": [
       "'Wylie'"
      ]
     },
     "execution_count": 185,
     "metadata": {},
     "output_type": "execute_result"
    }
   ],
   "source": [
    "text_df.at[cluster_0[0],\"Author\"]"
   ]
  },
  {
   "cell_type": "code",
   "execution_count": 149,
   "metadata": {},
   "outputs": [],
   "source": [
    "from sklearn.decomposition import PCA\n",
    "\n",
    "X_pca = PCA(2).fit_transform(X)\n",
    "#X_lsa = lsa.fit_transform(X)"
   ]
  },
  {
   "cell_type": "code",
   "execution_count": 148,
   "metadata": {},
   "outputs": [
    {
     "name": "stdout",
     "output_type": "stream",
     "text": [
      "[t-SNE] Computing 121 nearest neighbors...\n",
      "[t-SNE] Indexed 13834 samples in 0.915s...\n",
      "[t-SNE] Computed neighbors for 13834 samples in 526.781s...\n",
      "[t-SNE] Computed conditional probabilities for sample 1000 / 13834\n",
      "[t-SNE] Computed conditional probabilities for sample 2000 / 13834\n",
      "[t-SNE] Computed conditional probabilities for sample 3000 / 13834\n",
      "[t-SNE] Computed conditional probabilities for sample 4000 / 13834\n",
      "[t-SNE] Computed conditional probabilities for sample 5000 / 13834\n",
      "[t-SNE] Computed conditional probabilities for sample 6000 / 13834\n",
      "[t-SNE] Computed conditional probabilities for sample 7000 / 13834\n",
      "[t-SNE] Computed conditional probabilities for sample 8000 / 13834\n",
      "[t-SNE] Computed conditional probabilities for sample 9000 / 13834\n",
      "[t-SNE] Computed conditional probabilities for sample 10000 / 13834\n",
      "[t-SNE] Computed conditional probabilities for sample 11000 / 13834\n",
      "[t-SNE] Computed conditional probabilities for sample 12000 / 13834\n",
      "[t-SNE] Computed conditional probabilities for sample 13000 / 13834\n",
      "[t-SNE] Computed conditional probabilities for sample 13834 / 13834\n",
      "[t-SNE] Mean sigma: 0.000000\n",
      "[t-SNE] Computed conditional probabilities in 2.341s\n",
      "[t-SNE] Iteration 50: error = 95.6060486, gradient norm = 0.2355582 (50 iterations in 39.170s)\n",
      "[t-SNE] Iteration 100: error = 95.1590881, gradient norm = 0.2251367 (50 iterations in 40.126s)\n",
      "[t-SNE] Iteration 150: error = 95.1632538, gradient norm = 0.2368121 (50 iterations in 38.427s)\n",
      "[t-SNE] Iteration 200: error = 95.9048996, gradient norm = 0.2580405 (50 iterations in 39.365s)\n",
      "[t-SNE] Iteration 250: error = 95.8022385, gradient norm = 0.2155154 (50 iterations in 35.347s)\n",
      "[t-SNE] KL divergence after 250 iterations with early exaggeration: 95.802238\n",
      "[t-SNE] Iteration 300: error = 3.9145012, gradient norm = 0.0018011 (50 iterations in 27.738s)\n",
      "[t-SNE] Iteration 350: error = 3.3841326, gradient norm = 0.0007516 (50 iterations in 22.048s)\n",
      "[t-SNE] Iteration 400: error = 3.1189513, gradient norm = 0.0005059 (50 iterations in 21.683s)\n",
      "[t-SNE] Iteration 450: error = 2.9444473, gradient norm = 0.0003374 (50 iterations in 21.550s)\n",
      "[t-SNE] Iteration 500: error = 2.8240399, gradient norm = 0.0003391 (50 iterations in 21.717s)\n",
      "[t-SNE] Iteration 550: error = 2.7388334, gradient norm = 0.0002135 (50 iterations in 21.626s)\n",
      "[t-SNE] Iteration 600: error = 2.6717162, gradient norm = 0.0001818 (50 iterations in 21.438s)\n",
      "[t-SNE] Iteration 650: error = 2.6211348, gradient norm = 0.0002065 (50 iterations in 21.617s)\n",
      "[t-SNE] Iteration 700: error = 2.5821590, gradient norm = 0.0001329 (50 iterations in 21.613s)\n",
      "[t-SNE] Iteration 750: error = 2.5503082, gradient norm = 0.0001095 (50 iterations in 21.778s)\n",
      "[t-SNE] Iteration 800: error = 2.5238180, gradient norm = 0.0001136 (50 iterations in 21.646s)\n",
      "[t-SNE] Iteration 850: error = 2.5017314, gradient norm = 0.0000888 (50 iterations in 21.803s)\n",
      "[t-SNE] Iteration 900: error = 2.4829469, gradient norm = 0.0000936 (50 iterations in 21.747s)\n",
      "[t-SNE] Iteration 950: error = 2.4681730, gradient norm = 0.0000752 (50 iterations in 21.930s)\n",
      "[t-SNE] Iteration 1000: error = 2.4540055, gradient norm = 0.0000639 (50 iterations in 21.822s)\n",
      "[t-SNE] Error after 1000 iterations: 2.454005\n"
     ]
    }
   ],
   "source": [
    "from sklearn.manifold import TSNE\n",
    "\n",
    "lsa_embed = TSNE(n_components=2,perplexity=40,verbose=2).fit_transform(X_lsa)"
   ]
  },
  {
   "cell_type": "code",
   "execution_count": null,
   "metadata": {},
   "outputs": [],
   "source": []
  },
  {
   "cell_type": "code",
   "execution_count": 150,
   "metadata": {},
   "outputs": [
    {
     "name": "stderr",
     "output_type": "stream",
     "text": [
      "No handles with labels found to put in legend.\n"
     ]
    },
    {
     "data": {
      "image/png": "[encoded data removed]",
      "text/plain": [
       "<Figure size 1656x936 with 1 Axes>"
      ]
     },
     "metadata": {},
     "output_type": "display_data"
    }
   ],
   "source": [
    "# visualizing the clusters (only for 2-dimensional clustering, reduce 2+ dimensions using PCA)\n",
    "\n",
    "plt.rcParams['figure.figsize'] = (23,13)\n",
    "plt.scatter(X_pca[:,0],X_pca[:,1],c=y_kmeans)\n",
    "plt.title(\"Clusters\")\n",
    "plt.legend()\n",
    "plt.show()"
   ]
  },
  {
   "cell_type": "code",
   "execution_count": null,
   "metadata": {},
   "outputs": [],
   "source": []
  }
 ],
 "metadata": {
  "kernelspec": {
   "display_name": "Python 3",
   "language": "python",
   "name": "python3"
  },
  "language_info": {
   "codemirror_mode": {
    "name": "ipython",
    "version": 3
   },
   "file_extension": ".py",
   "mimetype": "text/x-python",
   "name": "python",
   "nbconvert_exporter": "python",
   "pygments_lexer": "ipython3",
   "version": "3.6.5"
  }
 },
 "nbformat": 4,
 "nbformat_minor": 2
}
